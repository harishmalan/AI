{
 "cells": [
  {
   "cell_type": "markdown",
   "metadata": {},
   "source": [
    "# Heuristic Analysis "
   ]
  },
  {
   "cell_type": "markdown",
   "metadata": {},
   "source": [
    "## Description of heuristic Functions"
   ]
  },
  {
   "cell_type": "markdown",
   "metadata": {},
   "source": [
    "### Custom Score    \n",
    " Activate Player will try to chose the most aggressive move. It calculate the number of my moves and opponent player moves. It weights the number of oppenent player moves with the factor of 2\n",
    " \n",
    " Code :\n",
    "   return float(my_moves - 2*opp_moves)"
   ]
  },
  {
   "cell_type": "markdown",
   "metadata": {},
   "source": [
    "### Custom Score 2\n",
    "\n",
    "It calculates the difference between the number of my prayer and opponent player moves, its weight the number of opponent player move with factor of 3 for first half of the game  and by factor of 2 in second half of game.\n",
    "\n",
    "Code :\n",
    "\n",
    "if first_half:  \n",
    "return float(my_moves-3*opp_moves)  \n",
    "else:  \n",
    "return float(my_moves-2*opp_moves)\n",
    " "
   ]
  },
  {
   "cell_type": "markdown",
   "metadata": {},
   "source": [
    "### Custom Score 3\n",
    "\n",
    "This Code Inproves Centor score, It calculates the difference between own player distance and opponent distance from center.\n",
    "\n"
   ]
  },
  {
   "cell_type": "markdown",
   "metadata": {},
   "source": [
    "### Comparison  \n"
   ]
  },
  {
   "cell_type": "code",
   "execution_count": 2,
   "metadata": {
    "collapsed": false
   },
   "outputs": [
    {
     "name": "stdout",
     "output_type": "stream",
     "text": [
      "\n",
      "This script evaluates the performance of the custom_score evaluation\n",
      "function against a baseline agent using alpha-beta search and iterative\n",
      "deepening (ID) called `AB_Improved`. The three `AB_Custom` agents use\n",
      "ID and alpha-beta search with the custom_score functions defined in\n",
      "game_agent.py.\n",
      "\n",
      "                        *************************                         \n",
      "                             Playing Matches                              \n",
      "                        *************************                         \n",
      "\n",
      " Match #   Opponent    AB_Improved   AB_Custom   AB_Custom_2  AB_Custom_3 \n",
      "                        Won | Lost   Won | Lost   Won | Lost   Won | Lost \n",
      "    1       Random      10  |   0    10  |   0    10  |   0    10  |   0  \n",
      "    2       MM_Open      7  |   3     9  |   1     7  |   3     8  |   2  \n",
      "    3      MM_Center     8  |   2     9  |   1    10  |   0    10  |   0  \n",
      "    4     MM_Improved    9  |   1     9  |   1     8  |   2     6  |   4  \n",
      "    5       AB_Open      5  |   5     6  |   4     6  |   4     5  |   5  \n",
      "    6      AB_Center     6  |   4     7  |   3     4  |   6     5  |   5  \n",
      "    7     AB_Improved    3  |   7     3  |   7     6  |   4     4  |   6  \n",
      "--------------------------------------------------------------------------\n",
      "           Win Rate:      68.6%        75.7%        72.9%        68.6%    \n",
      "\n",
      "Your ID search forfeited 100.0 games while there were still legal moves available to play.\n",
      "\n"
     ]
    }
   ],
   "source": [
    "import tournament\n",
    "tournament.main()"
   ]
  },
  {
   "cell_type": "markdown",
   "metadata": {},
   "source": [
    "#### Heurisitic Function Recommendation in my three function\n",
    "From the analysis and comparison of the results of different heuristic function we can clearly make clarification the Custome_score is the leader and can be picked as strongest oppenent among the other heuristics.  \n",
    "I recommend the Custom_score heuristic Based on plaer results:\n",
    "* its easy to Implement and involves merely a few operations\n",
    "* if we would like imporve the function, we could tune using grid search."
   ]
  },
  {
   "cell_type": "code",
   "execution_count": null,
   "metadata": {
    "collapsed": true
   },
   "outputs": [],
   "source": []
  }
 ],
 "metadata": {
  "kernelspec": {
   "display_name": "Python 3",
   "language": "python",
   "name": "python3"
  },
  "language_info": {
   "codemirror_mode": {
    "name": "ipython",
    "version": 3
   },
   "file_extension": ".py",
   "mimetype": "text/x-python",
   "name": "python",
   "nbconvert_exporter": "python",
   "pygments_lexer": "ipython3",
   "version": "3.6.0"
  }
 },
 "nbformat": 4,
 "nbformat_minor": 2
}
